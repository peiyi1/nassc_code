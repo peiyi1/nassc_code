{
 "cells": [
  {
   "cell_type": "code",
   "execution_count": 1,
   "id": "c213a8ed",
   "metadata": {},
   "outputs": [],
   "source": [
    "import argparse\n",
    "import csv\n",
    "import yaml\n",
    "from importlib import import_module\n",
    "from os import path"
   ]
  },
  {
   "cell_type": "code",
   "execution_count": 2,
   "id": "72daa31f",
   "metadata": {},
   "outputs": [
    {
     "name": "stderr",
     "output_type": "stream",
     "text": [
      "/home/pli11/qiskit_project/qiskit-terra/qiskit/__init__.py:66: DeprecationWarning: Using Qiskit with Python 3.6 is deprecated as of qiskit-terra 0.17.0. Support for running Qiskit with Python 3.6 will be removed in qiskit-terra 0.20.0.\n",
      "  DeprecationWarning,\n"
     ]
    }
   ],
   "source": [
    "from benchmark import Result"
   ]
  },
  {
   "cell_type": "code",
   "execution_count": 3,
   "id": "fd01998e",
   "metadata": {},
   "outputs": [],
   "source": [
    "yamlfile = \"grover_n6.yaml\""
   ]
  },
  {
   "cell_type": "code",
   "execution_count": 4,
   "id": "59971712",
   "metadata": {},
   "outputs": [],
   "source": [
    "with open(yamlfile) as file:\n",
    "    configuration = yaml.load(file, Loader=yaml.FullLoader)"
   ]
  },
  {
   "cell_type": "code",
   "execution_count": 5,
   "id": "76be8173",
   "metadata": {},
   "outputs": [
    {
     "name": "stdout",
     "output_type": "stream",
     "text": [
      "{'suite': 'benchmark.suites.grover_n6', 'backend': 'ibmq_montreal', 'times': 10, 'pass managers': ['qiskit.transpiler.preset_passmanagers:level_3_pass_manager'], 'fields': ['routing_method', 'n_qubits', 'depth', 'level3_cxs', 'level3_depth', 'level3_time']}\n"
     ]
    }
   ],
   "source": [
    "print(configuration)"
   ]
  },
  {
   "cell_type": "code",
   "execution_count": 6,
   "id": "bbaa01fc",
   "metadata": {},
   "outputs": [
    {
     "name": "stdout",
     "output_type": "stream",
     "text": [
      "suite: benchmark.suites.grover_n6\n"
     ]
    }
   ],
   "source": [
    "print('suite:', configuration['suite'])"
   ]
  },
  {
   "cell_type": "code",
   "execution_count": 7,
   "id": "40530f27",
   "metadata": {},
   "outputs": [],
   "source": [
    "suite = import_module(configuration['suite'])"
   ]
  },
  {
   "cell_type": "code",
   "execution_count": 8,
   "id": "b901e6df",
   "metadata": {},
   "outputs": [
    {
     "name": "stdout",
     "output_type": "stream",
     "text": [
      "<module 'benchmark.suites.grover_n6' from '/home/pli11/qiskit_project/benchmark/suites/grover_n6.py'>\n"
     ]
    }
   ],
   "source": [
    "print(suite)"
   ]
  },
  {
   "cell_type": "code",
   "execution_count": 9,
   "id": "f739bd08",
   "metadata": {},
   "outputs": [
    {
     "name": "stdout",
     "output_type": "stream",
     "text": [
      "qiskit.transpiler.preset_passmanagers\n",
      "level_3_pass_manager\n"
     ]
    }
   ],
   "source": [
    "passmanagers = []\n",
    "for pm_line in configuration['pass managers']:\n",
    "    pm_module, pm_func = pm_line.split(':')\n",
    "    passmanagers.append(getattr(import_module(pm_module), pm_func))\n",
    "    print(pm_module)\n",
    "    print(pm_func)"
   ]
  },
  {
   "cell_type": "code",
   "execution_count": 10,
   "id": "677d848a",
   "metadata": {},
   "outputs": [
    {
     "name": "stdout",
     "output_type": "stream",
     "text": [
      "[<function level_3_pass_manager at 0x7fb457e971e0>]\n"
     ]
    }
   ],
   "source": [
    "print(passmanagers)"
   ]
  },
  {
   "cell_type": "code",
   "execution_count": 11,
   "id": "a5151303",
   "metadata": {},
   "outputs": [],
   "source": [
    "from qiskit import QuantumRegister, ClassicalRegister, QuantumCircuit, assemble, Aer, IBMQ\n",
    "IBMQ.load_account()\n",
    "provider = IBMQ.get_provider(hub='ibm-q-ncsu', group = 'nc-state', project = 'ece792')\n",
    "backend = provider.get_backend(configuration['backend'])"
   ]
  },
  {
   "cell_type": "code",
   "execution_count": 12,
   "id": "f657ab85",
   "metadata": {},
   "outputs": [
    {
     "name": "stdout",
     "output_type": "stream",
     "text": [
      "['routing_method', 'n_qubits', 'depth', 'level3_cxs', 'level3_depth', 'level3_time']\n"
     ]
    }
   ],
   "source": [
    "fields = configuration['fields']\n",
    "print(fields)"
   ]
  },
  {
   "cell_type": "code",
   "execution_count": 13,
   "id": "e2522747",
   "metadata": {},
   "outputs": [
    {
     "name": "stdout",
     "output_type": "stream",
     "text": [
      "10\n"
     ]
    }
   ],
   "source": [
    "times = configuration.get('times')\n",
    "print(times)"
   ]
  },
  {
   "cell_type": "code",
   "execution_count": 14,
   "id": "511977aa",
   "metadata": {},
   "outputs": [
    {
     "name": "stdout",
     "output_type": "stream",
     "text": [
      "results/grover_n6.csv\n"
     ]
    }
   ],
   "source": [
    "resultfile = path.join('results', '%s.csv' % path.basename(yamlfile).split('.')[0])\n",
    "print(resultfile)"
   ]
  },
  {
   "cell_type": "code",
   "execution_count": 15,
   "id": "beba3b71",
   "metadata": {},
   "outputs": [
    {
     "name": "stdout",
     "output_type": "stream",
     "text": [
      "suite: benchmark.suites.grover_n6\n",
      "backend: ibmq_montreal\n",
      "pass managers: \n",
      "\tqiskit.transpiler.preset_passmanagers:level_3_pass_manager\n",
      "fields: routing_method, n_qubits, depth, level3_cxs, level3_depth, level3_time\n",
      "times: 10\n",
      "result file: results/grover_n6.csv\n"
     ]
    }
   ],
   "source": [
    "print('suite:', configuration['suite'])\n",
    "print('backend:', backend)\n",
    "print('pass managers:', ''.join(['\\n\\t' + pm for pm in configuration['pass managers']]))\n",
    "print('fields:', ', '.join(fields))\n",
    "print('times:', str(times))\n",
    "print('result file:', resultfile)"
   ]
  },
  {
   "cell_type": "code",
   "execution_count": 16,
   "id": "99c9246c",
   "metadata": {
    "scrolled": true
   },
   "outputs": [
    {
     "name": "stderr",
     "output_type": "stream",
     "text": [
      "ibmqfactory.load_account:WARNING:2021-11-07 14:39:12,141: Credentials are already in use. The existing account in the session will be replaced.\n",
      "ibmqfactory.load_account:WARNING:2021-11-07 14:39:17,834: Credentials are already in use. The existing account in the session will be replaced.\n",
      "ibmqfactory.load_account:WARNING:2021-11-07 14:39:23,086: Credentials are already in use. The existing account in the session will be replaced.\n",
      "ibmqfactory.load_account:WARNING:2021-11-07 14:39:29,035: Credentials are already in use. The existing account in the session will be replaced.\n",
      "ibmqfactory.load_account:WARNING:2021-11-07 14:39:34,104: Credentials are already in use. The existing account in the session will be replaced.\n",
      "ibmqfactory.load_account:WARNING:2021-11-07 14:39:39,228: Credentials are already in use. The existing account in the session will be replaced.\n",
      "ibmqfactory.load_account:WARNING:2021-11-07 14:39:44,073: Credentials are already in use. The existing account in the session will be replaced.\n",
      "ibmqfactory.load_account:WARNING:2021-11-07 14:39:49,280: Credentials are already in use. The existing account in the session will be replaced.\n",
      "ibmqfactory.load_account:WARNING:2021-11-07 14:39:54,541: Credentials are already in use. The existing account in the session will be replaced.\n",
      "ibmqfactory.load_account:WARNING:2021-11-07 14:39:59,693: Credentials are already in use. The existing account in the session will be replaced.\n"
     ]
    },
    {
     "name": "stdout",
     "output_type": "stream",
     "text": [
      "{'routing_method': 'sabre', 'n_qubits': 6, 'depth': 13, 'level3_cxs': [310, 310, 310, 310, 310, 310, 310, 310, 310, 310], 'level3_depth': [513, 513, 513, 513, 513, 513, 513, 513, 513, 513], 'level3_time': [2.058673143386841, 1.6642711162567139, 1.662062406539917, 1.666599988937378, 1.756883144378662, 1.6600384712219238, 1.6576809883117676, 1.6610898971557617, 1.6576261520385742, 1.662388801574707]}\n"
     ]
    },
    {
     "name": "stderr",
     "output_type": "stream",
     "text": [
      "ibmqfactory.load_account:WARNING:2021-11-07 14:40:05,586: Credentials are already in use. The existing account in the session will be replaced.\n",
      "ibmqfactory.load_account:WARNING:2021-11-07 14:40:11,661: Credentials are already in use. The existing account in the session will be replaced.\n",
      "ibmqfactory.load_account:WARNING:2021-11-07 14:40:17,119: Credentials are already in use. The existing account in the session will be replaced.\n",
      "ibmqfactory.load_account:WARNING:2021-11-07 14:40:23,047: Credentials are already in use. The existing account in the session will be replaced.\n",
      "ibmqfactory.load_account:WARNING:2021-11-07 14:40:28,775: Credentials are already in use. The existing account in the session will be replaced.\n",
      "ibmqfactory.load_account:WARNING:2021-11-07 14:40:38,499: Credentials are already in use. The existing account in the session will be replaced.\n",
      "ibmqfactory.load_account:WARNING:2021-11-07 14:40:44,156: Credentials are already in use. The existing account in the session will be replaced.\n",
      "ibmqfactory.load_account:WARNING:2021-11-07 14:40:51,059: Credentials are already in use. The existing account in the session will be replaced.\n",
      "ibmqfactory.load_account:WARNING:2021-11-07 14:40:56,783: Credentials are already in use. The existing account in the session will be replaced.\n",
      "ibmqfactory.load_account:WARNING:2021-11-07 14:41:02,495: Credentials are already in use. The existing account in the session will be replaced.\n"
     ]
    },
    {
     "name": "stdout",
     "output_type": "stream",
     "text": [
      "{'routing_method': 'NASSCSwap', 'n_qubits': 6, 'depth': 13, 'level3_cxs': [231, 231, 231, 231, 231, 231, 231, 231, 231, 231], 'level3_depth': [461, 461, 461, 461, 461, 461, 461, 461, 461, 461], 'level3_time': [2.289851665496826, 2.3620200157165527, 2.3797545433044434, 2.274651050567627, 2.266523599624634, 2.2755868434906006, 2.272118091583252, 2.3777525424957275, 2.2716004848480225, 2.2705986499786377]}\n"
     ]
    }
   ],
   "source": [
    "with open(resultfile, 'w') as csvfile:\n",
    "    writer = csv.DictWriter(csvfile, fieldnames=fields)\n",
    "    writer.writeheader()\n",
    "    circuit = suite.circuits()\n",
    "    result = Result(circuit, backend, routing_method=\"sabre\")\n",
    "    result.run_pms(passmanagers, times=times)\n",
    "    print(result.row(fields))\n",
    "    writer.writerow(result.row(fields))\n",
    "    \n",
    "    result = Result(circuit, backend, routing_method=\"NASSCSwap\")\n",
    "    result.run_pms(passmanagers, times=times)\n",
    "    print(result.row(fields))\n",
    "    writer.writerow(result.row(fields))"
   ]
  },
  {
   "cell_type": "code",
   "execution_count": null,
   "id": "f928a21b",
   "metadata": {},
   "outputs": [],
   "source": []
  }
 ],
 "metadata": {
  "kernelspec": {
   "display_name": "nassc",
   "language": "python",
   "name": "nassc"
  },
  "language_info": {
   "codemirror_mode": {
    "name": "ipython",
    "version": 3
   },
   "file_extension": ".py",
   "mimetype": "text/x-python",
   "name": "python",
   "nbconvert_exporter": "python",
   "pygments_lexer": "ipython3",
   "version": "3.6.2"
  }
 },
 "nbformat": 4,
 "nbformat_minor": 5
}
