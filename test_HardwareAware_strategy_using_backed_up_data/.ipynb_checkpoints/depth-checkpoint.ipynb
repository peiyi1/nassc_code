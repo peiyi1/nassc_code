{
 "cells": [
  {
   "cell_type": "code",
   "execution_count": 1,
   "id": "7bcafcb3",
   "metadata": {},
   "outputs": [
    {
     "name": "stderr",
     "output_type": "stream",
     "text": [
      "/home/pli11/qiskit_project/qiskit-terra/qiskit/__init__.py:66: DeprecationWarning: Using Qiskit with Python 3.6 is deprecated as of qiskit-terra 0.17.0. Support for running Qiskit with Python 3.6 will be removed in qiskit-terra 0.20.0.\n",
      "  DeprecationWarning,\n"
     ]
    },
    {
     "name": "stdout",
     "output_type": "stream",
     "text": [
      "{'mod5mils_65', 'bv_n5', 'decod24-v2_43', 'mod5d2_64', 'grover_n4', '3_17_13'}\n"
     ]
    }
   ],
   "source": [
    "import csv\n",
    "import os\n",
    "from  statistics import mean\n",
    "from qiskit.visualization import plot_histogram\n",
    "\n",
    "csv_path_CouplingMap_montreal=\"/home/pli11/qiskit_project/test_HardwareAware/test_CouplingMap_montreal/results/\"\n",
    "csv_path_CouplingMap_FullyConnected = \"/home/pli11/qiskit_project/test_HardwareAware/test_CouplingMap_FullyConnected/results/\"\n",
    "\n",
    "import numpy as np\n",
    "import matplotlib.pyplot as plt\n",
    "\n",
    "def geometric_mean(data):\n",
    "    x=np.log(data)\n",
    "    return np.exp(x.mean())\n",
    "\n",
    "def geometric_mean_data(data):\n",
    "    has_negative_data = False\n",
    "    result = 0\n",
    "    for i in data:\n",
    "        if i <= 0:\n",
    "            has_negative_data = True\n",
    "            break\n",
    "    if has_negative_data:\n",
    "        positive_list=[]\n",
    "        for i in data:\n",
    "            positive_list.append(i+1)\n",
    "        result = geometric_mean(positive_list) - 1\n",
    "    else:\n",
    "        result = geometric_mean(data)\n",
    "    return  result\n",
    "\n",
    "def mean_data(data):\n",
    "    return mean([float(i) for i in data.strip('][').split(', ')])\n",
    "\n",
    "def obtain_data_fully_connected_map(csv_file):\n",
    "    with open(csv_path_CouplingMap_FullyConnected +csv_file, newline='') as f:\n",
    "        reader = csv.reader(f)\n",
    "        headings = next(reader)\n",
    "        #get the result of sabre\n",
    "        first_row= next(reader)\n",
    "        dict_data={}\n",
    "        dict_data['num_qubits']=first_row[0]\n",
    "        dict_data['num_cnot']=int(mean_data(first_row[1]))\n",
    "        dict_data['depth']=int(mean_data(first_row[2]))\n",
    "        return dict_data\n",
    "def obtain_data_montreal_map(csv_file):\n",
    "    with open(csv_path_CouplingMap_montreal+csv_file, newline='') as f:\n",
    "        reader = csv.reader(f)\n",
    "        headings = next(reader)\n",
    "        #get the result of sabre\n",
    "        first_row= next(reader)\n",
    "        dict_data_sabre={}\n",
    "        dict_data_sabre['num_qubits']=first_row[1]\n",
    "        dict_data_sabre['num_cnot']=int(mean_data(first_row[2]))\n",
    "        dict_data_sabre['fidelity']=mean_data(first_row[3])\n",
    "        dict_data_sabre['depth']=int(mean_data(first_row[4]))\n",
    "        #get the result of nassc\n",
    "        second_row= next(reader)\n",
    "        dict_data_nassc={}\n",
    "        dict_data_nassc['num_qubits']=second_row[1]\n",
    "        dict_data_nassc['num_cnot']=int(mean_data(second_row[2]))\n",
    "        dict_data_nassc['fidelity']=mean_data(second_row[3])\n",
    "        dict_data_nassc['depth']=int(mean_data(second_row[4]))\n",
    "        #get the result of sabre_HardwareAware\n",
    "        third_row= next(reader)\n",
    "        dict_data_sabre_HardwareAware={}\n",
    "        dict_data_sabre_HardwareAware['num_qubits']=third_row[1]\n",
    "        dict_data_sabre_HardwareAware['num_cnot']=int(mean_data(third_row[2]))\n",
    "        dict_data_sabre_HardwareAware['fidelity']=mean_data(third_row[3])\n",
    "        dict_data_sabre_HardwareAware['depth']=int(mean_data(third_row[4]))\n",
    "        #get the result of nassc_HardwareAware\n",
    "        fouth_row= next(reader)\n",
    "        dict_data_nassc_HardwareAware={}\n",
    "        dict_data_nassc_HardwareAware['num_qubits']=fouth_row[1]\n",
    "        dict_data_nassc_HardwareAware['num_cnot']=int(mean_data(fouth_row[2]))\n",
    "        dict_data_nassc_HardwareAware['fidelity']=mean_data(fouth_row[3])\n",
    "        dict_data_nassc_HardwareAware['depth']=int(mean_data(fouth_row[4]))\n",
    "        return (dict_data_sabre,dict_data_nassc,dict_data_sabre_HardwareAware, dict_data_nassc_HardwareAware)\n",
    "\n",
    "\n",
    "csv_file_set=set()\n",
    "for csv_file in os.listdir(csv_path_CouplingMap_montreal):\n",
    "    name,csv_fomat=csv_file.split('.')\n",
    "    csv_file_set.add(name)\n",
    "print(csv_file_set)\n",
    "csv_file_dict_fully_connected_map= dict.fromkeys(csv_file_set,None)\n",
    "csv_file_dict_montreal_map= dict.fromkeys(csv_file_set,None)\n",
    "\n",
    "for csv_file in csv_file_dict_fully_connected_map:\n",
    "    csv_file_dict_fully_connected_map[csv_file]=obtain_data_fully_connected_map(csv_file+'.csv')\n",
    "\n",
    "for csv_file in csv_file_dict_montreal_map:\n",
    "    csv_file_dict_montreal_map[csv_file]=obtain_data_montreal_map(csv_file+'.csv')\n",
    "\n"
   ]
  },
  {
   "cell_type": "code",
   "execution_count": 2,
   "id": "1a4cf2e8",
   "metadata": {},
   "outputs": [
    {
     "name": "stdout",
     "output_type": "stream",
     "text": [
      "['mod5mils_65', 'bv_n5', 'decod24-v2_43', 'mod5d2_64', 'grover_n4', '3_17_13']\n"
     ]
    }
   ],
   "source": [
    "labels = list(csv_file_set)\n",
    "print(labels)"
   ]
  },
  {
   "cell_type": "code",
   "execution_count": 3,
   "id": "3148eeab",
   "metadata": {},
   "outputs": [],
   "source": [
    "depth_add_sabre = []\n",
    "depth_add_nassc = []\n",
    "depth_add_sabre_hardwareaware = []\n",
    "depth_add_nassc_hardwareaware = []"
   ]
  },
  {
   "cell_type": "code",
   "execution_count": 4,
   "id": "551d7be7",
   "metadata": {},
   "outputs": [],
   "source": [
    "for csv_file in csv_file_dict_montreal_map:\n",
    "    depth_total_OriginalCircuit = csv_file_dict_fully_connected_map[csv_file]['depth']\n",
    "    depth_total_Qiskit_SABRE = csv_file_dict_montreal_map[csv_file][0]['depth']\n",
    "    depth_total_Qiskit_NASSC = csv_file_dict_montreal_map[csv_file][1]['depth']\n",
    "    depth_total_Qiskit_SABRE_HardwareAware = csv_file_dict_montreal_map[csv_file][2]['depth']\n",
    "    depth_total_Qiskit_NASSC_HardwareAware = csv_file_dict_montreal_map[csv_file][3]['depth']\n",
    "        \n",
    "    depth_add_Qiskit_SABRE = depth_total_Qiskit_SABRE - depth_total_OriginalCircuit\n",
    "    depth_add_Qiskit_NASSC = depth_total_Qiskit_NASSC - depth_total_OriginalCircuit\n",
    "    depth_add_Qiskit_SABRE_HardwareAware = depth_total_Qiskit_SABRE_HardwareAware - depth_total_OriginalCircuit\n",
    "    depth_add_Qiskit_NASSC_HardwareAware = depth_total_Qiskit_NASSC_HardwareAware - depth_total_OriginalCircuit\n",
    "    \n",
    "    depth_add_sabre.append(depth_add_Qiskit_SABRE)\n",
    "    depth_add_nassc.append(depth_add_Qiskit_NASSC)\n",
    "    depth_add_sabre_hardwareaware.append(depth_add_Qiskit_SABRE_HardwareAware)\n",
    "    depth_add_nassc_hardwareaware.append(depth_add_Qiskit_NASSC_HardwareAware)"
   ]
  },
  {
   "cell_type": "code",
   "execution_count": 5,
   "id": "260b282f",
   "metadata": {},
   "outputs": [],
   "source": [
    "x = np.arange(len(labels)) \n",
    "width = 0.6 "
   ]
  },
  {
   "cell_type": "code",
   "execution_count": 6,
   "id": "445e175c",
   "metadata": {},
   "outputs": [
    {
     "data": {
      "image/png": "[encoded data removed]",
      "text/plain": [
       "<Figure size 432x288 with 1 Axes>"
      ]
     },
     "metadata": {
      "needs_background": "light"
     },
     "output_type": "display_data"
    }
   ],
   "source": [
    "fig, ax = plt.subplots()\n",
    "rects0 = ax.bar(x , depth_add_sabre, width/4, label='sabre',color='tab:blue')\n",
    "rects1 = ax.bar(x + width/4, depth_add_nassc, width/4, label='nassc',color='tab:orange')\n",
    "rects2 = ax.bar(x + width/2, depth_add_sabre_hardwareaware, width/4, label='sabre_HardwareAware',color='tab:gray')\n",
    "rects3 = ax.bar(x + width/4*3, depth_add_nassc_hardwareaware, width/4, label='nassc_HardwareAware',color='tab:red')\n",
    "ax.set_ylabel('additional depth')\n",
    "#ax.set_title('')\n",
    "ax.set_xticks(x+width/4)\n",
    "ax.set_xticklabels(labels)\n",
    "ax.legend()\n",
    "\n",
    "fig.tight_layout()\n",
    "plt.xticks(x, labels, rotation=45)\n",
    "plt.show()\n"
   ]
  },
  {
   "cell_type": "code",
   "execution_count": null,
   "id": "08ab51ad",
   "metadata": {},
   "outputs": [],
   "source": []
  }
 ],
 "metadata": {
  "kernelspec": {
   "display_name": "nassc",
   "language": "python",
   "name": "nassc"
  },
  "language_info": {
   "codemirror_mode": {
    "name": "ipython",
    "version": 3
   },
   "file_extension": ".py",
   "mimetype": "text/x-python",
   "name": "python",
   "nbconvert_exporter": "python",
   "pygments_lexer": "ipython3",
   "version": "3.6.2"
  }
 },
 "nbformat": 4,
 "nbformat_minor": 5
}
